{
 "cells": [
  {
   "cell_type": "markdown",
   "id": "cd5c448e",
   "metadata": {},
   "source": [
    "## Constructors"
   ]
  },
  {
   "cell_type": "code",
   "execution_count": 14,
   "id": "bf219711",
   "metadata": {},
   "outputs": [],
   "source": [
    "struct Species\n",
    "    name::String\n",
    "    mol_wt::Float64\n",
    "    lj_well_depath::Float64\n",
    "    lj_coll::Float64\n",
    "    geom::Float64\n",
    "    dipole::Float64\n",
    "    \n",
    "    Species(name,mol_wt) = new(name, mol_wt, 1e-5, 1e-6, 0, 1.5)\n",
    "    Species(name, mol_wt, lj_well_depath) = new(name, mol_wt, lj_well_depath, 1e-6, 0, 1.5)\n",
    "    \n",
    "end"
   ]
  },
  {
   "cell_type": "code",
   "execution_count": 16,
   "id": "4b6d3895",
   "metadata": {},
   "outputs": [
    {
     "data": {
      "text/plain": [
       "Species(\"CO2\", 0.044, 1.0e-5, 1.0e-6, 0.0, 1.5)"
      ]
     },
     "execution_count": 16,
     "metadata": {},
     "output_type": "execute_result"
    }
   ],
   "source": [
    "co2 = Species(\"CO2\", 0.044)"
   ]
  },
  {
   "cell_type": "code",
   "execution_count": 17,
   "id": "17e43d3a",
   "metadata": {},
   "outputs": [
    {
     "data": {
      "text/plain": [
       "Species(\"O2\", 0.032, 1.0e-12, 1.0e-6, 0.0, 1.5)"
      ]
     },
     "execution_count": 17,
     "metadata": {},
     "output_type": "execute_result"
    }
   ],
   "source": [
    "o2 = Species(\"O2\", 0.032, 1e-12)"
   ]
  },
  {
   "cell_type": "code",
   "execution_count": 19,
   "id": "2577bb88",
   "metadata": {},
   "outputs": [
    {
     "data": {
      "text/plain": [
       "(:name, :mol_wt, :lj_well_depath, :lj_coll, :geom, :dipole)"
      ]
     },
     "execution_count": 19,
     "metadata": {},
     "output_type": "execute_result"
    }
   ],
   "source": [
    "fieldnames(Species)"
   ]
  },
  {
   "cell_type": "code",
   "execution_count": 20,
   "id": "58768826",
   "metadata": {},
   "outputs": [
    {
     "data": {
      "text/plain": [
       "0.032"
      ]
     },
     "execution_count": 20,
     "metadata": {},
     "output_type": "execute_result"
    }
   ],
   "source": [
    "o2.mol_wt"
   ]
  },
  {
   "cell_type": "code",
   "execution_count": 21,
   "id": "9884c13c",
   "metadata": {},
   "outputs": [],
   "source": [
    "mutable struct Species2\n",
    "    name::String\n",
    "    mol_wt::Float64\n",
    "    lj_well_depath::Float64\n",
    "    lj_coll::Float64\n",
    "    geom::Float64\n",
    "    dipole::Float64\n",
    "    \n",
    "    Species2(name) = new(name, 0.0, 1e-5, 1e-6, 0, 1.5)\n",
    "    \n",
    "end"
   ]
  },
  {
   "cell_type": "code",
   "execution_count": 23,
   "id": "31d87e4c",
   "metadata": {},
   "outputs": [],
   "source": [
    "mutable struct Species3\n",
    "    name::String\n",
    "    mol_wt::Float64\n",
    "    lj_well_depath::Float64\n",
    "    lj_coll::Float64\n",
    "    geom::Float64\n",
    "    dipole::Float64\n",
    "    \n",
    "    Species3(name) = new(name, 0.0, 1e-5, 1e-6, 0, 1.5)\n",
    "    \n",
    "end"
   ]
  },
  {
   "cell_type": "code",
   "execution_count": 24,
   "id": "f5b4736f",
   "metadata": {},
   "outputs": [
    {
     "data": {
      "text/plain": [
       "Species3(\"O2\", 0.0, 1.0e-5, 1.0e-6, 0.0, 1.5)"
      ]
     },
     "execution_count": 24,
     "metadata": {},
     "output_type": "execute_result"
    }
   ],
   "source": [
    "o2 = Species3(\"O2\")"
   ]
  },
  {
   "cell_type": "code",
   "execution_count": 25,
   "id": "6f513af5",
   "metadata": {},
   "outputs": [
    {
     "data": {
      "text/plain": [
       "0.016"
      ]
     },
     "execution_count": 25,
     "metadata": {},
     "output_type": "execute_result"
    }
   ],
   "source": [
    "o2.mol_wt = 0.016"
   ]
  },
  {
   "cell_type": "code",
   "execution_count": 26,
   "id": "e96a112f",
   "metadata": {},
   "outputs": [
    {
     "data": {
      "text/plain": [
       "Species3(\"O2\", 0.016, 1.0e-5, 1.0e-6, 0.0, 1.5)"
      ]
     },
     "execution_count": 26,
     "metadata": {},
     "output_type": "execute_result"
    }
   ],
   "source": [
    "o2"
   ]
  },
  {
   "cell_type": "code",
   "execution_count": 31,
   "id": "082f8b9e",
   "metadata": {},
   "outputs": [
    {
     "data": {
      "text/plain": [
       "my_species (generic function with 1 method)"
      ]
     },
     "execution_count": 31,
     "metadata": {},
     "output_type": "execute_result"
    }
   ],
   "source": [
    "my_species(name,mol_wt) = Species3(name,mol_wt,1e-5, 1e-6, 1, 1.1)"
   ]
  },
  {
   "cell_type": "code",
   "execution_count": 29,
   "id": "af0a27e2",
   "metadata": {},
   "outputs": [
    {
     "ename": "LoadError",
     "evalue": "MethodError: no method matching Species3(::String, ::Float64, ::Float64, ::Float64, ::Int64, ::Float64)\n\u001b[0mClosest candidates are:\n\u001b[0m  Species3(::Any) at In[23]:9",
     "output_type": "error",
     "traceback": [
      "MethodError: no method matching Species3(::String, ::Float64, ::Float64, ::Float64, ::Int64, ::Float64)\n\u001b[0mClosest candidates are:\n\u001b[0m  Species3(::Any) at In[23]:9",
      "",
      "Stacktrace:",
      " [1] my_species(name::String, mol_wt::Float64)",
      "   @ Main .\\In[28]:1",
      " [2] top-level scope",
      "   @ In[29]:1",
      " [3] eval",
      "   @ .\\boot.jl:373 [inlined]",
      " [4] include_string(mapexpr::typeof(REPL.softscope), mod::Module, code::String, filename::String)",
      "   @ Base .\\loading.jl:1196"
     ]
    }
   ],
   "source": [
    "ch4 = my_species(\"CH4\", 0.016)"
   ]
  },
  {
   "cell_type": "code",
   "execution_count": 35,
   "id": "321f5d02",
   "metadata": {},
   "outputs": [],
   "source": [
    "struct Outertest\n",
    "    name::String\n",
    "    location::String\n",
    "end"
   ]
  },
  {
   "cell_type": "code",
   "execution_count": 36,
   "id": "59986e7c",
   "metadata": {},
   "outputs": [
    {
     "data": {
      "text/plain": [
       "ot (generic function with 1 method)"
      ]
     },
     "execution_count": 36,
     "metadata": {},
     "output_type": "execute_result"
    }
   ],
   "source": [
    "ot(name) = Outertest(name,\"Earth\")"
   ]
  },
  {
   "cell_type": "code",
   "execution_count": 37,
   "id": "311e8702",
   "metadata": {},
   "outputs": [
    {
     "data": {
      "text/plain": [
       "typeof(ot) (singleton type of function ot, subtype of Function)"
      ]
     },
     "execution_count": 37,
     "metadata": {},
     "output_type": "execute_result"
    }
   ],
   "source": [
    "typeof(ot)"
   ]
  },
  {
   "cell_type": "code",
   "execution_count": 38,
   "id": "2ec59162",
   "metadata": {},
   "outputs": [
    {
     "data": {
      "text/plain": [
       "Outertest(\"IIT\", \"Earth\")"
      ]
     },
     "execution_count": 38,
     "metadata": {},
     "output_type": "execute_result"
    }
   ],
   "source": [
    "a = ot(\"IIT\")"
   ]
  },
  {
   "cell_type": "code",
   "execution_count": 39,
   "id": "6e538277",
   "metadata": {},
   "outputs": [
    {
     "data": {
      "text/plain": [
       "Outertest"
      ]
     },
     "execution_count": 39,
     "metadata": {},
     "output_type": "execute_result"
    }
   ],
   "source": [
    "typeof(a)"
   ]
  },
  {
   "cell_type": "code",
   "execution_count": 42,
   "id": "2261ecba",
   "metadata": {},
   "outputs": [
    {
     "data": {
      "text/plain": [
       "Species(\"N2\", 0.014, 1.0e-6, 1.0e-6, 1.0, 1.1)"
      ]
     },
     "execution_count": 42,
     "metadata": {},
     "output_type": "execute_result"
    }
   ],
   "source": [
    "n2 = Species(\"N2\", 0.014, 1e-6, 1e-6, 1, 1.1)"
   ]
  },
  {
   "cell_type": "markdown",
   "id": "89dc587d",
   "metadata": {},
   "source": [
    "## Parametric types"
   ]
  },
  {
   "cell_type": "code",
   "execution_count": 49,
   "id": "c1a3d73a",
   "metadata": {},
   "outputs": [],
   "source": [
    "struct ThermoData2{T <: Float64}\n",
    "    species_name::String\n",
    "    cp::T\n",
    "    h::T\n",
    "    s::T\n",
    "end"
   ]
  },
  {
   "cell_type": "code",
   "execution_count": 50,
   "id": "ab284804",
   "metadata": {},
   "outputs": [
    {
     "data": {
      "text/plain": [
       "ThermoData2{Float64}(\"CH4\", 101.2, 11004.0, 1.0)"
      ]
     },
     "execution_count": 50,
     "metadata": {},
     "output_type": "execute_result"
    }
   ],
   "source": [
    "td = ThermoData2(\"CH4\", 101.2, 11004.,1.0)"
   ]
  },
  {
   "cell_type": "code",
   "execution_count": 51,
   "id": "41d6fd45",
   "metadata": {},
   "outputs": [],
   "source": [
    "struct MultiType{T,P}\n",
    "    name::T\n",
    "    location::T\n",
    "    age::P\n",
    "    height::P\n",
    "end"
   ]
  },
  {
   "cell_type": "code",
   "execution_count": 52,
   "id": "db085257",
   "metadata": {},
   "outputs": [
    {
     "data": {
      "text/plain": [
       "MultiType{String, Int64}(\"Harish\", \"IITH\", 24, 172)"
      ]
     },
     "execution_count": 52,
     "metadata": {},
     "output_type": "execute_result"
    }
   ],
   "source": [
    "p1 = MultiType(\"Harish\",\"IITH\", 24, 172)"
   ]
  },
  {
   "cell_type": "code",
   "execution_count": 53,
   "id": "18fb3a9f",
   "metadata": {},
   "outputs": [
    {
     "data": {
      "text/plain": [
       "parametric_demo (generic function with 1 method)"
      ]
     },
     "execution_count": 53,
     "metadata": {},
     "output_type": "execute_result"
    }
   ],
   "source": [
    "function parametric_demo(a::T, b::T, c::P, d::P) where T where P\n",
    "    println(\"$a is of the type \", typeof(a))\n",
    "    println(\"$c is of the type \", typeof(c))\n",
    "end"
   ]
  },
  {
   "cell_type": "code",
   "execution_count": 54,
   "id": "568ae890",
   "metadata": {},
   "outputs": [
    {
     "name": "stdout",
     "output_type": "stream",
     "text": [
      "10 is of the type Int64\n",
      "11.1 is of the type Float64\n"
     ]
    }
   ],
   "source": [
    "parametric_demo(10,20,11.1,22.2)"
   ]
  },
  {
   "cell_type": "markdown",
   "id": "6d6fdcc4",
   "metadata": {},
   "source": [
    "## How to read an file or output file"
   ]
  },
  {
   "cell_type": "code",
   "execution_count": 55,
   "id": "08eb11d3",
   "metadata": {},
   "outputs": [
    {
     "data": {
      "text/plain": [
       "10-element Vector{Union{Nothing, Int64}}:\n",
       "   nothing\n",
       "  2\n",
       "   nothing\n",
       "  4\n",
       "   nothing\n",
       "  6\n",
       "   nothing\n",
       "  8\n",
       "   nothing\n",
       " 10"
      ]
     },
     "execution_count": 55,
     "metadata": {},
     "output_type": "execute_result"
    }
   ],
   "source": [
    "map(collect(1:10)) do x\n",
    "    if iseven(x)\n",
    "        x\n",
    "    end\n",
    "end"
   ]
  },
  {
   "cell_type": "code",
   "execution_count": 59,
   "id": "79dfccfc",
   "metadata": {},
   "outputs": [
    {
     "data": {
      "text/plain": [
       "IOStream(<file test.txt>)"
      ]
     },
     "execution_count": 59,
     "metadata": {},
     "output_type": "execute_result"
    }
   ],
   "source": [
    "io = open(\"test.txt\",\"r\")"
   ]
  },
  {
   "cell_type": "code",
   "execution_count": 62,
   "id": "7f70edbf",
   "metadata": {},
   "outputs": [
    {
     "name": "stdout",
     "output_type": "stream",
     "text": [
      "String[]\n"
     ]
    }
   ],
   "source": [
    "data = readlines(io)\n",
    "println(data)\n",
    "close(io)"
   ]
  },
  {
   "cell_type": "code",
   "execution_count": null,
   "id": "251ae200",
   "metadata": {},
   "outputs": [],
   "source": [
    "function process_file(line::String)\n",
    "    if length(line) != 0\n",
    "        println(line[1:10])\n",
    "    end\n",
    "end\n",
    "\n",
    "open(\"therm.dat\",\"r\") do  io\n",
    "    for line in eachline(io)\n",
    "        \n",
    "    end\n",
    "end"
   ]
  }
 ],
 "metadata": {
  "kernelspec": {
   "display_name": "Julia 1.7.3",
   "language": "julia",
   "name": "julia-1.7"
  },
  "language_info": {
   "file_extension": ".jl",
   "mimetype": "application/julia",
   "name": "julia",
   "version": "1.7.3"
  }
 },
 "nbformat": 4,
 "nbformat_minor": 5
}
