{
 "cells": [
  {
   "cell_type": "markdown",
   "id": "56d07e55",
   "metadata": {},
   "source": [
    "### Function Basics - Dt. 10 August 2022"
   ]
  },
  {
   "cell_type": "code",
   "execution_count": 35,
   "id": "b70a3d6e",
   "metadata": {},
   "outputs": [
    {
     "data": {
      "text/plain": [
       "multi (generic function with 2 methods)"
      ]
     },
     "execution_count": 35,
     "metadata": {},
     "output_type": "execute_result"
    }
   ],
   "source": [
    "function multi(a,b)\n",
    "    a*b\n",
    "end"
   ]
  },
  {
   "cell_type": "code",
   "execution_count": 2,
   "id": "b23f71bb",
   "metadata": {},
   "outputs": [
    {
     "data": {
      "text/plain": [
       "6"
      ]
     },
     "execution_count": 2,
     "metadata": {},
     "output_type": "execute_result"
    }
   ],
   "source": [
    "multi(2,3)"
   ]
  },
  {
   "cell_type": "code",
   "execution_count": 36,
   "id": "cc47df8d",
   "metadata": {},
   "outputs": [
    {
     "data": {
      "text/plain": [
       "4.840000000000001"
      ]
     },
     "execution_count": 36,
     "metadata": {},
     "output_type": "execute_result"
    }
   ],
   "source": [
    "multi(2.2,2.2)"
   ]
  },
  {
   "cell_type": "code",
   "execution_count": 4,
   "id": "aa08db80",
   "metadata": {},
   "outputs": [
    {
     "data": {
      "text/plain": [
       "multi2 (generic function with 1 method)"
      ]
     },
     "execution_count": 4,
     "metadata": {},
     "output_type": "execute_result"
    }
   ],
   "source": [
    "function multi2(a::Int64, b::Int64)\n",
    "    a*b\n",
    "end"
   ]
  },
  {
   "cell_type": "code",
   "execution_count": 5,
   "id": "2414f257",
   "metadata": {},
   "outputs": [
    {
     "ename": "LoadError",
     "evalue": "MethodError: no method matching multi2(::Float64, ::Float64)",
     "output_type": "error",
     "traceback": [
      "MethodError: no method matching multi2(::Float64, ::Float64)",
      "",
      "Stacktrace:",
      " [1] top-level scope",
      "   @ In[5]:1",
      " [2] eval",
      "   @ .\\boot.jl:373 [inlined]",
      " [3] include_string(mapexpr::typeof(REPL.softscope), mod::Module, code::String, filename::String)",
      "   @ Base .\\loading.jl:1196"
     ]
    }
   ],
   "source": [
    "multi2(2.2,2.2)"
   ]
  },
  {
   "cell_type": "markdown",
   "id": "e7ff2ef8",
   "metadata": {},
   "source": [
    "### How to write function in a single line"
   ]
  },
  {
   "cell_type": "code",
   "execution_count": 6,
   "id": "dd7d7287",
   "metadata": {},
   "outputs": [
    {
     "data": {
      "text/plain": [
       "multi1 (generic function with 1 method)"
      ]
     },
     "execution_count": 6,
     "metadata": {},
     "output_type": "execute_result"
    }
   ],
   "source": [
    "multi1(a::Float64, b::Float64) = a*b"
   ]
  },
  {
   "cell_type": "code",
   "execution_count": 7,
   "id": "864b6379",
   "metadata": {},
   "outputs": [
    {
     "data": {
      "text/plain": [
       "200.0"
      ]
     },
     "execution_count": 7,
     "metadata": {},
     "output_type": "execute_result"
    }
   ],
   "source": [
    "multi1(10.0,20.0)"
   ]
  },
  {
   "cell_type": "code",
   "execution_count": 8,
   "id": "eec91c18",
   "metadata": {},
   "outputs": [
    {
     "data": {
      "text/plain": [
       "multi (generic function with 1 method)"
      ]
     },
     "execution_count": 8,
     "metadata": {},
     "output_type": "execute_result"
    }
   ],
   "source": [
    "function multi(a::Int64, b::Int64)\n",
    "    a*b, a/b, a%b\n",
    "end"
   ]
  },
  {
   "cell_type": "code",
   "execution_count": 9,
   "id": "7038af9d",
   "metadata": {},
   "outputs": [
    {
     "data": {
      "text/plain": [
       "(36, 2.25, 1)"
      ]
     },
     "execution_count": 9,
     "metadata": {},
     "output_type": "execute_result"
    }
   ],
   "source": [
    "multi(9,4)"
   ]
  },
  {
   "cell_type": "code",
   "execution_count": 10,
   "id": "8607b085",
   "metadata": {},
   "outputs": [
    {
     "data": {
      "text/plain": [
       "(40, 2.5, 2)"
      ]
     },
     "execution_count": 10,
     "metadata": {},
     "output_type": "execute_result"
    }
   ],
   "source": [
    "x, y, z = multi(10,4)"
   ]
  },
  {
   "cell_type": "code",
   "execution_count": 11,
   "id": "75fa2bc9",
   "metadata": {},
   "outputs": [
    {
     "name": "stdout",
     "output_type": "stream",
     "text": [
      "40 2.5 2"
     ]
    }
   ],
   "source": [
    "print(x, \" \", y, \" \", z)"
   ]
  },
  {
   "cell_type": "markdown",
   "id": "7507d14a",
   "metadata": {},
   "source": [
    "### Varying arguments function"
   ]
  },
  {
   "cell_type": "code",
   "execution_count": 37,
   "id": "893cdae0",
   "metadata": {},
   "outputs": [
    {
     "data": {
      "text/plain": [
       "varargs (generic function with 1 method)"
      ]
     },
     "execution_count": 37,
     "metadata": {},
     "output_type": "execute_result"
    }
   ],
   "source": [
    "function varargs(x, y,args...) # Atleast two input must be there need to check\n",
    "    println(x, \"\\t\", y)\n",
    "    println(args)\n",
    "    println(args...)\n",
    "end"
   ]
  },
  {
   "cell_type": "code",
   "execution_count": 39,
   "id": "d8238d20",
   "metadata": {},
   "outputs": [
    {
     "name": "stdout",
     "output_type": "stream",
     "text": [
      "10\t20\n",
      "([1, 2, 3, 4], [5, 6, 7], [8, 9], [10, 11, 12], 13, 14)\n",
      "[1, 2, 3, 4][5, 6, 7][8, 9][10, 11, 12]1314\n"
     ]
    }
   ],
   "source": [
    "varargs(10,20,[1,2,3,4],[5,6,7],[8,9],[10,11,12],13,14)"
   ]
  },
  {
   "cell_type": "code",
   "execution_count": 14,
   "id": "fb5e4975",
   "metadata": {},
   "outputs": [
    {
     "data": {
      "text/plain": [
       "nre (generic function with 3 methods)"
      ]
     },
     "execution_count": 14,
     "metadata": {},
     "output_type": "execute_result"
    }
   ],
   "source": [
    "function nre(d::Float64, u::Float64 , rho= 1000 , mu=0.001)\n",
    "    d*u*rho/mu\n",
    "end"
   ]
  },
  {
   "cell_type": "code",
   "execution_count": 15,
   "id": "f03d8e9d",
   "metadata": {},
   "outputs": [
    {
     "data": {
      "text/plain": [
       "50000.0"
      ]
     },
     "execution_count": 15,
     "metadata": {},
     "output_type": "execute_result"
    }
   ],
   "source": [
    "nre(5e-3, 10.0)"
   ]
  },
  {
   "cell_type": "markdown",
   "id": "c15c1981",
   "metadata": {},
   "source": [
    "### keyword argument"
   ]
  },
  {
   "cell_type": "code",
   "execution_count": 44,
   "id": "95082cdd",
   "metadata": {},
   "outputs": [
    {
     "data": {
      "text/plain": [
       "keyargs (generic function with 1 method)"
      ]
     },
     "execution_count": 44,
     "metadata": {},
     "output_type": "execute_result"
    }
   ],
   "source": [
    "function keyargs(x, y; c1=10, c2=15)\n",
    "    println(x, \"\\t\", y)\n",
    "    println(c1, \"\\t\", c2)\n",
    "end"
   ]
  },
  {
   "cell_type": "code",
   "execution_count": 45,
   "id": "708590c5",
   "metadata": {},
   "outputs": [
    {
     "name": "stdout",
     "output_type": "stream",
     "text": [
      "10\t20\n",
      "12\t15\n"
     ]
    }
   ],
   "source": [
    "keyargs(10,20, c2=15, c1=12)"
   ]
  },
  {
   "cell_type": "code",
   "execution_count": 18,
   "id": "67e06d01",
   "metadata": {},
   "outputs": [
    {
     "name": "stdout",
     "output_type": "stream",
     "text": [
      "10\t20\n",
      "10\t15\n"
     ]
    }
   ],
   "source": [
    "keyargs(10,20)"
   ]
  },
  {
   "cell_type": "code",
   "execution_count": 19,
   "id": "f90e9933",
   "metadata": {},
   "outputs": [
    {
     "data": {
      "text/plain": [
       "func1 (generic function with 1 method)"
      ]
     },
     "execution_count": 19,
     "metadata": {},
     "output_type": "execute_result"
    }
   ],
   "source": [
    "function func1(x::Array{Float64}, y::Array{Int64})\n",
    "    # x .= x*2    # .= -> inplace = True \n",
    "    # y .= y*3\n",
    "    \n",
    "    for i in 1:length(x)\n",
    "        x[i] *= 2\n",
    "    end\n",
    "    for i in 1: length(y)\n",
    "        y[i] *= 3\n",
    "    end\n",
    "end"
   ]
  },
  {
   "cell_type": "code",
   "execution_count": 20,
   "id": "50ca9f07",
   "metadata": {},
   "outputs": [
    {
     "data": {
      "text/plain": [
       "3-element Vector{Int64}:\n",
       " 1\n",
       " 2\n",
       " 3"
      ]
     },
     "execution_count": 20,
     "metadata": {},
     "output_type": "execute_result"
    }
   ],
   "source": [
    "x = [1.1,2.2,3.3]\n",
    "y = [1,2,3]"
   ]
  },
  {
   "cell_type": "code",
   "execution_count": 21,
   "id": "b0be185f",
   "metadata": {},
   "outputs": [],
   "source": [
    "func1(x,y)"
   ]
  },
  {
   "cell_type": "code",
   "execution_count": 22,
   "id": "b87b526a",
   "metadata": {},
   "outputs": [
    {
     "data": {
      "text/plain": [
       "3-element Vector{Float64}:\n",
       " 2.2\n",
       " 4.4\n",
       " 6.6"
      ]
     },
     "execution_count": 22,
     "metadata": {},
     "output_type": "execute_result"
    }
   ],
   "source": [
    "x"
   ]
  },
  {
   "cell_type": "code",
   "execution_count": 23,
   "id": "872a86f9",
   "metadata": {},
   "outputs": [
    {
     "data": {
      "text/plain": [
       "3-element Vector{Int64}:\n",
       " 3\n",
       " 6\n",
       " 9"
      ]
     },
     "execution_count": 23,
     "metadata": {},
     "output_type": "execute_result"
    }
   ],
   "source": [
    "y"
   ]
  },
  {
   "cell_type": "markdown",
   "id": "d3d6ee31",
   "metadata": {},
   "source": [
    "### Anonymous Function"
   ]
  },
  {
   "cell_type": "code",
   "execution_count": 24,
   "id": "4e635667",
   "metadata": {},
   "outputs": [
    {
     "data": {
      "text/plain": [
       "#2 (generic function with 1 method)"
      ]
     },
     "execution_count": 24,
     "metadata": {},
     "output_type": "execute_result"
    }
   ],
   "source": [
    "b = function(x)\n",
    "    x*2\n",
    "end"
   ]
  },
  {
   "cell_type": "code",
   "execution_count": 46,
   "id": "5465e9ae",
   "metadata": {},
   "outputs": [
    {
     "data": {
      "text/plain": [
       "4"
      ]
     },
     "execution_count": 46,
     "metadata": {},
     "output_type": "execute_result"
    }
   ],
   "source": [
    "a = b(2)"
   ]
  },
  {
   "cell_type": "markdown",
   "id": "0595f614",
   "metadata": {},
   "source": [
    "### Also another way of writing Anonymous function`"
   ]
  },
  {
   "cell_type": "code",
   "execution_count": 25,
   "id": "4a6dc50d",
   "metadata": {},
   "outputs": [
    {
     "data": {
      "text/plain": [
       "#4 (generic function with 1 method)"
      ]
     },
     "execution_count": 25,
     "metadata": {},
     "output_type": "execute_result"
    }
   ],
   "source": [
    "(x,y) -> x*y"
   ]
  },
  {
   "cell_type": "code",
   "execution_count": 26,
   "id": "aff3f99f",
   "metadata": {},
   "outputs": [
    {
     "data": {
      "text/plain": [
       "3-element Vector{Int64}:\n",
       "  9\n",
       " 36\n",
       " 81"
      ]
     },
     "execution_count": 26,
     "metadata": {},
     "output_type": "execute_result"
    }
   ],
   "source": [
    "map(s-> s^2, y)"
   ]
  },
  {
   "cell_type": "code",
   "execution_count": 27,
   "id": "9b7ab5d2",
   "metadata": {},
   "outputs": [
    {
     "data": {
      "text/plain": [
       "3-element Vector{Float64}:\n",
       "  4.4\n",
       "  8.8\n",
       " 13.2"
      ]
     },
     "execution_count": 27,
     "metadata": {},
     "output_type": "execute_result"
    }
   ],
   "source": [
    "map(s->2s, x)"
   ]
  },
  {
   "cell_type": "code",
   "execution_count": 28,
   "id": "67fea75a",
   "metadata": {},
   "outputs": [
    {
     "data": {
      "text/plain": [
       "3-element Vector{Float64}:\n",
       "  6.6000000000000005\n",
       " 26.400000000000002\n",
       " 59.4"
      ]
     },
     "execution_count": 28,
     "metadata": {},
     "output_type": "execute_result"
    }
   ],
   "source": [
    "map((x,y)-> x*y, x, y)"
   ]
  },
  {
   "cell_type": "code",
   "execution_count": 29,
   "id": "f82b2e81",
   "metadata": {},
   "outputs": [
    {
     "data": {
      "text/plain": [
       "3-element Vector{Int64}:\n",
       " 16\n",
       " 36\n",
       " 81"
      ]
     },
     "execution_count": 29,
     "metadata": {},
     "output_type": "execute_result"
    }
   ],
   "source": [
    "map(x -> x^2, map(+, [1,2,4],[3,4,5]))"
   ]
  },
  {
   "cell_type": "code",
   "execution_count": 30,
   "id": "32c82c61",
   "metadata": {},
   "outputs": [
    {
     "data": {
      "text/plain": [
       "5-element Vector{String}:\n",
       " \"CH4(g)\"\n",
       " \"CO(g)\"\n",
       " \"H(s)\"\n",
       " \"O(s)\"\n",
       " \"N2(g)\""
      ]
     },
     "execution_count": 30,
     "metadata": {},
     "output_type": "execute_result"
    }
   ],
   "source": [
    "species = [\"CH4(g)\",\"CO(g)\", \"H(s)\", \"O(s)\", \"N2(g)\"]"
   ]
  },
  {
   "cell_type": "code",
   "execution_count": 31,
   "id": "54dbe436",
   "metadata": {},
   "outputs": [
    {
     "data": {
      "text/plain": [
       "2-element Vector{String}:\n",
       " \"H(s)\"\n",
       " \"O(s)\""
      ]
     },
     "execution_count": 31,
     "metadata": {},
     "output_type": "execute_result"
    }
   ],
   "source": [
    "filter(sp -> occursin(\"(s)\", sp),species)"
   ]
  },
  {
   "cell_type": "code",
   "execution_count": 32,
   "id": "c70f6be6",
   "metadata": {},
   "outputs": [
    {
     "data": {
      "text/plain": [
       "10-element Vector{Int64}:\n",
       "   1\n",
       "   4\n",
       "   9\n",
       "  16\n",
       "  25\n",
       "  36\n",
       "  49\n",
       "  64\n",
       "  81\n",
       " 100"
      ]
     },
     "execution_count": 32,
     "metadata": {},
     "output_type": "execute_result"
    }
   ],
   "source": [
    "x = [i^2 for i in 1:10]"
   ]
  }
 ],
 "metadata": {
  "kernelspec": {
   "display_name": "Julia 1.7.3",
   "language": "julia",
   "name": "julia-1.7"
  },
  "language_info": {
   "file_extension": ".jl",
   "mimetype": "application/julia",
   "name": "julia",
   "version": "1.7.3"
  }
 },
 "nbformat": 4,
 "nbformat_minor": 5
}
