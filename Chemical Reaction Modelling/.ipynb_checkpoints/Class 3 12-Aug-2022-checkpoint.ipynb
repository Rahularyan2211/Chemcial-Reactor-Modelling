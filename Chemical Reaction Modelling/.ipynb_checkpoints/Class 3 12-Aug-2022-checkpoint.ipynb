{
 "cells": [
  {
   "cell_type": "markdown",
   "id": "e03fc629",
   "metadata": {},
   "source": [
    "### Derivative Function"
   ]
  },
  {
   "cell_type": "code",
   "execution_count": 1,
   "id": "35fa5200",
   "metadata": {},
   "outputs": [
    {
     "data": {
      "text/plain": [
       "dydx (generic function with 1 method)"
      ]
     },
     "execution_count": 1,
     "metadata": {},
     "output_type": "execute_result"
    }
   ],
   "source": [
    "function dydx(f::Function, x, dx)\n",
    "    return (f(x+dx) - f(x-dx))/2dx\n",
    "end"
   ]
  },
  {
   "cell_type": "code",
   "execution_count": 2,
   "id": "7a8076e0",
   "metadata": {},
   "outputs": [
    {
     "data": {
      "text/plain": [
       "22.99999999948454"
      ]
     },
     "execution_count": 2,
     "metadata": {},
     "output_type": "execute_result"
    }
   ],
   "source": [
    "f1 = x -> 2x^2 + 3x + 5\n",
    "dydx(f1, 5, 1e-5)"
   ]
  },
  {
   "cell_type": "code",
   "execution_count": 22,
   "id": "b903ae62",
   "metadata": {},
   "outputs": [
    {
     "data": {
      "text/plain": [
       "22.99999999948454"
      ]
     },
     "execution_count": 22,
     "metadata": {},
     "output_type": "execute_result"
    }
   ],
   "source": [
    "dydx(x -> 2x^2 + 3x + 5, 5, 1e-5) # not good form of code... uses more memory"
   ]
  },
  {
   "cell_type": "code",
   "execution_count": 70,
   "id": "2e9e5a86",
   "metadata": {},
   "outputs": [
    {
     "data": {
      "text/plain": [
       "derivative (generic function with 1 method)"
      ]
     },
     "execution_count": 70,
     "metadata": {},
     "output_type": "execute_result"
    }
   ],
   "source": [
    "function derivative(f::Function)\n",
    "    return function ff(x)\n",
    "        dx = sqrt(eps(Float64))\n",
    "        f1 = f(x+dx)\n",
    "        f2 = f(x)\n",
    "        return (f1-f2)/dx\n",
    "    end\n",
    "end"
   ]
  },
  {
   "cell_type": "code",
   "execution_count": 10,
   "id": "97321711",
   "metadata": {},
   "outputs": [
    {
     "data": {
      "text/plain": [
       "2.220446049250313e-16"
      ]
     },
     "execution_count": 10,
     "metadata": {},
     "output_type": "execute_result"
    }
   ],
   "source": [
    "eps(Float64) # A really small value"
   ]
  },
  {
   "cell_type": "code",
   "execution_count": 26,
   "id": "ef7daf4b",
   "metadata": {},
   "outputs": [
    {
     "data": {
      "text/plain": [
       "(::var\"#ff#10\"{var\"#1#2\"}) (generic function with 1 method)"
      ]
     },
     "execution_count": 26,
     "metadata": {},
     "output_type": "execute_result"
    }
   ],
   "source": [
    "x = derivative(f1)"
   ]
  },
  {
   "cell_type": "code",
   "execution_count": 27,
   "id": "cd3b184e",
   "metadata": {},
   "outputs": [
    {
     "data": {
      "text/plain": [
       "23.0"
      ]
     },
     "execution_count": 27,
     "metadata": {},
     "output_type": "execute_result"
    }
   ],
   "source": [
    "x(5)"
   ]
  },
  {
   "cell_type": "code",
   "execution_count": 28,
   "id": "c9715e6b",
   "metadata": {},
   "outputs": [
    {
     "data": {
      "text/plain": [
       "23.0"
      ]
     },
     "execution_count": 28,
     "metadata": {},
     "output_type": "execute_result"
    }
   ],
   "source": [
    "derivative(f1)(5)"
   ]
  },
  {
   "cell_type": "code",
   "execution_count": 18,
   "id": "c7ba2061",
   "metadata": {},
   "outputs": [
    {
     "data": {
      "text/plain": [
       "addall (generic function with 1 method)"
      ]
     },
     "execution_count": 18,
     "metadata": {},
     "output_type": "execute_result"
    }
   ],
   "source": [
    "function addall(a)\n",
    "    return function f(b)\n",
    "        return a+b\n",
    "    end\n",
    "end"
   ]
  },
  {
   "cell_type": "code",
   "execution_count": 19,
   "id": "a8e79847",
   "metadata": {},
   "outputs": [
    {
     "data": {
      "text/plain": [
       "7"
      ]
     },
     "execution_count": 19,
     "metadata": {},
     "output_type": "execute_result"
    }
   ],
   "source": [
    "addall(3)(4)"
   ]
  },
  {
   "cell_type": "code",
   "execution_count": 30,
   "id": "ebb197ea",
   "metadata": {},
   "outputs": [
    {
     "data": {
      "text/plain": [
       "sumall (generic function with 1 method)"
      ]
     },
     "execution_count": 30,
     "metadata": {},
     "output_type": "execute_result"
    }
   ],
   "source": [
    "function sumall(n)\n",
    "    if n == 1\n",
    "        return 1\n",
    "    else\n",
    "        return n + sumall(n-1)\n",
    "    end\n",
    "end"
   ]
  },
  {
   "cell_type": "markdown",
   "id": "bf434360",
   "metadata": {},
   "source": [
    "### Introduction to Ternary Operator"
   ]
  },
  {
   "cell_type": "code",
   "execution_count": 29,
   "id": "f2aa0340",
   "metadata": {},
   "outputs": [
    {
     "data": {
      "text/plain": [
       "sumall (generic function with 1 method)"
      ]
     },
     "execution_count": 29,
     "metadata": {},
     "output_type": "execute_result"
    }
   ],
   "source": [
    "sumall(n) = n == 1 ? 1 : n + sumall(n-1)"
   ]
  },
  {
   "cell_type": "code",
   "execution_count": 31,
   "id": "f262f215",
   "metadata": {},
   "outputs": [
    {
     "data": {
      "text/plain": [
       "factall (generic function with 1 method)"
      ]
     },
     "execution_count": 31,
     "metadata": {},
     "output_type": "execute_result"
    }
   ],
   "source": [
    "factall(n) = n == 0 ? 1 : n*factall(n-1)"
   ]
  },
  {
   "cell_type": "markdown",
   "id": "41c1795f",
   "metadata": {},
   "source": [
    "## Broadcasting"
   ]
  },
  {
   "cell_type": "code",
   "execution_count": 33,
   "id": "d032911a",
   "metadata": {},
   "outputs": [
    {
     "data": {
      "text/plain": [
       "3-element Vector{Float64}:\n",
       " 0.02159097572609596\n",
       " 0.945783999449539\n",
       " 0.8414709848078965"
      ]
     },
     "execution_count": 33,
     "metadata": {},
     "output_type": "execute_result"
    }
   ],
   "source": [
    "a = [3.12, 1.24, 1.0]\n",
    "sin.(a)"
   ]
  },
  {
   "cell_type": "code",
   "execution_count": 34,
   "id": "7c4b9d21",
   "metadata": {},
   "outputs": [
    {
     "data": {
      "text/plain": [
       "3-element Vector{Float64}:\n",
       " 0.02159097572609596\n",
       " 0.945783999449539\n",
       " 0.8414709848078965"
      ]
     },
     "execution_count": 34,
     "metadata": {},
     "output_type": "execute_result"
    }
   ],
   "source": [
    "@. sin(a) # broadcasting a function into the array \"a\".. can also use function.(array)"
   ]
  },
  {
   "cell_type": "code",
   "execution_count": 35,
   "id": "9bfbe390",
   "metadata": {},
   "outputs": [
    {
     "data": {
      "text/plain": [
       "sumtwo (generic function with 1 method)"
      ]
     },
     "execution_count": 35,
     "metadata": {},
     "output_type": "execute_result"
    }
   ],
   "source": [
    "function sumtwo(a::Int64, b::Int64)\n",
    "    a+b\n",
    "end"
   ]
  },
  {
   "cell_type": "code",
   "execution_count": 39,
   "id": "d7c750b5",
   "metadata": {},
   "outputs": [
    {
     "ename": "LoadError",
     "evalue": "MethodError: no method matching sumtwo(::Vector{Int64}, ::Vector{Int64})",
     "output_type": "error",
     "traceback": [
      "MethodError: no method matching sumtwo(::Vector{Int64}, ::Vector{Int64})",
      "",
      "Stacktrace:",
      " [1] top-level scope",
      "   @ In[39]:3",
      " [2] eval",
      "   @ .\\boot.jl:373 [inlined]",
      " [3] include_string(mapexpr::typeof(REPL.softscope), mod::Module, code::String, filename::String)",
      "   @ Base .\\loading.jl:1196"
     ]
    }
   ],
   "source": [
    "a = [1,2,3,4]\n",
    "b = [5,6,7,8]\n",
    "sumtwo(a,b) # will throw error as function will only accept int as input and not an array"
   ]
  },
  {
   "cell_type": "code",
   "execution_count": 38,
   "id": "d6620eb6",
   "metadata": {},
   "outputs": [
    {
     "data": {
      "text/plain": [
       "4-element Vector{Int64}:\n",
       "  6\n",
       "  8\n",
       " 10\n",
       " 12"
      ]
     },
     "execution_count": 38,
     "metadata": {},
     "output_type": "execute_result"
    }
   ],
   "source": [
    "sumtwo.(a,b)"
   ]
  },
  {
   "cell_type": "markdown",
   "id": "45657ef8",
   "metadata": {},
   "source": [
    "### Showcasing a function with many methods"
   ]
  },
  {
   "cell_type": "code",
   "execution_count": 42,
   "id": "855c7e2e",
   "metadata": {},
   "outputs": [
    {
     "data": {
      "text/plain": [
       "check (generic function with 4 methods)"
      ]
     },
     "execution_count": 42,
     "metadata": {},
     "output_type": "execute_result"
    }
   ],
   "source": [
    "check(a,b) =println(\"Base method\")\n",
    "check(a::Int64, b::Int64) = println(\"Integer64 method\")\n",
    "check(a::Float64, b::Float64) = println(\"Float64 method\")\n",
    "check(a::Int64, b::Float64) = println(\"Mixed method\")"
   ]
  },
  {
   "cell_type": "code",
   "execution_count": 43,
   "id": "84952571",
   "metadata": {},
   "outputs": [
    {
     "name": "stdout",
     "output_type": "stream",
     "text": [
      "Integer64 method\n"
     ]
    }
   ],
   "source": [
    "check(5,6)"
   ]
  },
  {
   "cell_type": "code",
   "execution_count": 45,
   "id": "e4ef5766",
   "metadata": {},
   "outputs": [
    {
     "name": "stdout",
     "output_type": "stream",
     "text": [
      "Float64 method\n"
     ]
    }
   ],
   "source": [
    "check(4.4,1.1)"
   ]
  },
  {
   "cell_type": "code",
   "execution_count": 46,
   "id": "434c9b5e",
   "metadata": {},
   "outputs": [
    {
     "name": "stdout",
     "output_type": "stream",
     "text": [
      "Mixed method\n"
     ]
    }
   ],
   "source": [
    "check(4,5.7)"
   ]
  },
  {
   "cell_type": "code",
   "execution_count": 44,
   "id": "1f483ee8",
   "metadata": {},
   "outputs": [
    {
     "name": "stdout",
     "output_type": "stream",
     "text": [
      "Base method\n"
     ]
    }
   ],
   "source": [
    "check(5.4,6)"
   ]
  },
  {
   "cell_type": "markdown",
   "id": "6446914b",
   "metadata": {},
   "source": [
    "## Conditional Evaluation"
   ]
  },
  {
   "cell_type": "code",
   "execution_count": 47,
   "id": "380ce90e",
   "metadata": {},
   "outputs": [
    {
     "data": {
      "text/plain": [
       "20"
      ]
     },
     "execution_count": 47,
     "metadata": {},
     "output_type": "execute_result"
    }
   ],
   "source": [
    "a = 10\n",
    "b = 20\n",
    "z = if a > b\n",
    "    a\n",
    "elseif b > a\n",
    "    b\n",
    "end"
   ]
  },
  {
   "cell_type": "code",
   "execution_count": 48,
   "id": "1c590c92",
   "metadata": {},
   "outputs": [
    {
     "name": "stdout",
     "output_type": "stream",
     "text": [
      "Hello Julia\n"
     ]
    }
   ],
   "source": [
    "z = println(\"Hello Julia\")"
   ]
  },
  {
   "cell_type": "code",
   "execution_count": 49,
   "id": "2107cb81",
   "metadata": {},
   "outputs": [
    {
     "data": {
      "text/plain": [
       "true"
      ]
     },
     "execution_count": 49,
     "metadata": {},
     "output_type": "execute_result"
    }
   ],
   "source": [
    "z == nothing"
   ]
  },
  {
   "cell_type": "code",
   "execution_count": 50,
   "id": "12ec6f78",
   "metadata": {},
   "outputs": [
    {
     "data": {
      "text/plain": [
       "20"
      ]
     },
     "execution_count": 50,
     "metadata": {},
     "output_type": "execute_result"
    }
   ],
   "source": [
    "z = a > b ? a : b"
   ]
  },
  {
   "cell_type": "code",
   "execution_count": 59,
   "id": "a2d2c727",
   "metadata": {},
   "outputs": [
    {
     "data": {
      "text/plain": [
       "sqroot (generic function with 1 method)"
      ]
     },
     "execution_count": 59,
     "metadata": {},
     "output_type": "execute_result"
    }
   ],
   "source": [
    "function sqroot(n)\n",
    "    n < 0 && error(\"must be a positive integer\")\n",
    "    n == 0 && return 0\n",
    "    sqrt(n)\n",
    "end"
   ]
  },
  {
   "cell_type": "code",
   "execution_count": 62,
   "id": "5dbd1bcc",
   "metadata": {},
   "outputs": [
    {
     "ename": "LoadError",
     "evalue": "must be a positive integer",
     "output_type": "error",
     "traceback": [
      "must be a positive integer",
      "",
      "Stacktrace:",
      " [1] error(s::String)",
      "   @ Base .\\error.jl:33",
      " [2] sqroot(n::Int64)",
      "   @ Main .\\In[59]:2",
      " [3] top-level scope",
      "   @ In[62]:1",
      " [4] eval",
      "   @ .\\boot.jl:373 [inlined]",
      " [5] include_string(mapexpr::typeof(REPL.softscope), mod::Module, code::String, filename::String)",
      "   @ Base .\\loading.jl:1196"
     ]
    }
   ],
   "source": [
    "sqroot(-10)"
   ]
  },
  {
   "cell_type": "code",
   "execution_count": 63,
   "id": "c22b38d5",
   "metadata": {},
   "outputs": [
    {
     "data": {
      "text/plain": [
       "0"
      ]
     },
     "execution_count": 63,
     "metadata": {},
     "output_type": "execute_result"
    }
   ],
   "source": [
    "sqroot(0)"
   ]
  },
  {
   "cell_type": "code",
   "execution_count": 64,
   "id": "8fe9ac95",
   "metadata": {},
   "outputs": [
    {
     "data": {
      "text/plain": [
       "2.0"
      ]
     },
     "execution_count": 64,
     "metadata": {},
     "output_type": "execute_result"
    }
   ],
   "source": [
    "sqroot(4)"
   ]
  }
 ],
 "metadata": {
  "kernelspec": {
   "display_name": "Julia 1.7.3",
   "language": "julia",
   "name": "julia-1.7"
  },
  "language_info": {
   "file_extension": ".jl",
   "mimetype": "application/julia",
   "name": "julia",
   "version": "1.7.3"
  }
 },
 "nbformat": 4,
 "nbformat_minor": 5
}
