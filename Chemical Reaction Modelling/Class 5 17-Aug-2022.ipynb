{
 "cells": [
  {
   "cell_type": "code",
   "execution_count": 1,
   "id": "a9ebb56b",
   "metadata": {},
   "outputs": [
    {
     "data": {
      "text/plain": [
       "mole2mass (generic function with 1 method)"
      ]
     },
     "execution_count": 1,
     "metadata": {},
     "output_type": "execute_result"
    }
   ],
   "source": [
    "mole2mass(mlf::Array{Float64}, mlwt::Array{Float64}) = (mlf.*mlwt)/sum(mlf.*mlwt)"
   ]
  },
  {
   "cell_type": "markdown",
   "id": "7a1337cd",
   "metadata": {},
   "source": [
    "## Dictionary"
   ]
  },
  {
   "cell_type": "code",
   "execution_count": 19,
   "id": "fb70d9f3",
   "metadata": {},
   "outputs": [
    {
     "data": {
      "text/plain": [
       "Dict{String, Float64} with 3 entries:\n",
       "  \"CH4\" => 0.016\n",
       "  \"CO2\" => 0.044\n",
       "  \"O2\"  => 0.032"
      ]
     },
     "execution_count": 19,
     "metadata": {},
     "output_type": "execute_result"
    }
   ],
   "source": [
    "d = Dict(\"CH4\"=> 0.016, \"CO2\" => 0.044, \"O2\" => 0.032)"
   ]
  },
  {
   "cell_type": "code",
   "execution_count": 20,
   "id": "199e8e95",
   "metadata": {},
   "outputs": [
    {
     "name": "stdout",
     "output_type": "stream",
     "text": [
      "CH4\t0.016\n",
      "CO2\t0.044\n",
      "O2\t0.032\n"
     ]
    }
   ],
   "source": [
    "for (key, value) in d \n",
    "    println(key, \"\\t\", value)\n",
    "end"
   ]
  },
  {
   "cell_type": "code",
   "execution_count": 21,
   "id": "de4cccdd",
   "metadata": {},
   "outputs": [
    {
     "data": {
      "text/plain": [
       "KeySet for a Dict{String, Float64} with 3 entries. Keys:\n",
       "  \"CH4\"\n",
       "  \"CO2\"\n",
       "  \"O2\""
      ]
     },
     "execution_count": 21,
     "metadata": {},
     "output_type": "execute_result"
    }
   ],
   "source": [
    "keys(d)"
   ]
  },
  {
   "cell_type": "code",
   "execution_count": 22,
   "id": "504320c9",
   "metadata": {},
   "outputs": [
    {
     "data": {
      "text/plain": [
       "ValueIterator for a Dict{String, Float64} with 3 entries. Values:\n",
       "  0.016\n",
       "  0.044\n",
       "  0.032"
      ]
     },
     "execution_count": 22,
     "metadata": {},
     "output_type": "execute_result"
    }
   ],
   "source": [
    "values(d)"
   ]
  },
  {
   "cell_type": "code",
   "execution_count": 23,
   "id": "72e389a0",
   "metadata": {},
   "outputs": [
    {
     "name": "stdout",
     "output_type": "stream",
     "text": [
      "CH4\n",
      "CO2\n",
      "O2\n"
     ]
    }
   ],
   "source": [
    "for k in keys(d)\n",
    "    println(k)\n",
    "end"
   ]
  },
  {
   "cell_type": "code",
   "execution_count": 24,
   "id": "233eb965",
   "metadata": {},
   "outputs": [
    {
     "data": {
      "text/plain": [
       "0.016"
      ]
     },
     "execution_count": 24,
     "metadata": {},
     "output_type": "execute_result"
    }
   ],
   "source": [
    "d[\"CH4\"]"
   ]
  },
  {
   "cell_type": "code",
   "execution_count": 25,
   "id": "b5726f85",
   "metadata": {},
   "outputs": [
    {
     "ename": "LoadError",
     "evalue": "KeyError: key \"N2\" not found",
     "output_type": "error",
     "traceback": [
      "KeyError: key \"N2\" not found",
      "",
      "Stacktrace:",
      " [1] getindex(h::Dict{String, Float64}, key::String)",
      "   @ Base .\\dict.jl:481",
      " [2] top-level scope",
      "   @ In[25]:1",
      " [3] eval",
      "   @ .\\boot.jl:373 [inlined]",
      " [4] include_string(mapexpr::typeof(REPL.softscope), mod::Module, code::String, filename::String)",
      "   @ Base .\\loading.jl:1196"
     ]
    }
   ],
   "source": [
    "d[\"N2\"] #Throws error"
   ]
  },
  {
   "cell_type": "code",
   "execution_count": 26,
   "id": "e9154ddc",
   "metadata": {},
   "outputs": [
    {
     "data": {
      "text/plain": [
       "false"
      ]
     },
     "execution_count": 26,
     "metadata": {},
     "output_type": "execute_result"
    }
   ],
   "source": [
    "haskey(d, \"N2\")"
   ]
  },
  {
   "cell_type": "code",
   "execution_count": 27,
   "id": "32321908",
   "metadata": {},
   "outputs": [
    {
     "data": {
      "text/plain": [
       "Vector{Dict{String, Float64}} (alias for Array{Dict{String, Float64}, 1})"
      ]
     },
     "execution_count": 27,
     "metadata": {},
     "output_type": "execute_result"
    }
   ],
   "source": [
    "darrray = Array{Dict{String, Float64},1}"
   ]
  },
  {
   "cell_type": "code",
   "execution_count": 40,
   "id": "461036ba",
   "metadata": {},
   "outputs": [
    {
     "data": {
      "text/plain": [
       "Dict{String, Dict{String, Float64}}()"
      ]
     },
     "execution_count": 40,
     "metadata": {},
     "output_type": "execute_result"
    }
   ],
   "source": [
    "d2 = Dict{String, Dict{String,Float64}}() #why..?"
   ]
  },
  {
   "cell_type": "code",
   "execution_count": 41,
   "id": "5c9710d0",
   "metadata": {},
   "outputs": [
    {
     "data": {
      "text/plain": [
       "Dict{String, Float64}"
      ]
     },
     "execution_count": 41,
     "metadata": {},
     "output_type": "execute_result"
    }
   ],
   "source": [
    "typeof(d)"
   ]
  },
  {
   "cell_type": "code",
   "execution_count": 42,
   "id": "e33882dd",
   "metadata": {},
   "outputs": [
    {
     "data": {
      "text/plain": [
       "Dict{String, Float64} with 3 entries:\n",
       "  \"CH4\" => 0.016\n",
       "  \"CO2\" => 0.044\n",
       "  \"O2\"  => 0.032"
      ]
     },
     "execution_count": 42,
     "metadata": {},
     "output_type": "execute_result"
    }
   ],
   "source": [
    "d2[\"test\"] = d"
   ]
  },
  {
   "cell_type": "code",
   "execution_count": 43,
   "id": "c7d4117b",
   "metadata": {},
   "outputs": [
    {
     "data": {
      "text/plain": [
       "Dict{String, Float64} with 3 entries:\n",
       "  \"CH4\" => 0.016\n",
       "  \"CO2\" => 0.044\n",
       "  \"O2\"  => 0.032"
      ]
     },
     "execution_count": 43,
     "metadata": {},
     "output_type": "execute_result"
    }
   ],
   "source": [
    "d2[\"test\"]"
   ]
  },
  {
   "cell_type": "markdown",
   "id": "9f0cb79f",
   "metadata": {},
   "source": [
    "## Composite Types"
   ]
  },
  {
   "cell_type": "code",
   "execution_count": 45,
   "id": "d77f48d1",
   "metadata": {},
   "outputs": [],
   "source": [
    "struct Species\n",
    "    name::String\n",
    "    mol_wt::Float64\n",
    "    geom::Int64\n",
    "    dipole::Int64\n",
    "end"
   ]
  },
  {
   "cell_type": "code",
   "execution_count": 46,
   "id": "228ac61b",
   "metadata": {},
   "outputs": [
    {
     "data": {
      "text/plain": [
       "Species(\"CH4\", 0.016, 1, 2)"
      ]
     },
     "execution_count": 46,
     "metadata": {},
     "output_type": "execute_result"
    }
   ],
   "source": [
    "sp1 = Species(\"CH4\",0.016,1,2)"
   ]
  },
  {
   "cell_type": "code",
   "execution_count": 47,
   "id": "80297193",
   "metadata": {},
   "outputs": [
    {
     "data": {
      "text/plain": [
       "\"CH4\""
      ]
     },
     "execution_count": 47,
     "metadata": {},
     "output_type": "execute_result"
    }
   ],
   "source": [
    "sp1.name"
   ]
  },
  {
   "cell_type": "code",
   "execution_count": 48,
   "id": "5511f540",
   "metadata": {},
   "outputs": [
    {
     "data": {
      "text/plain": [
       "2"
      ]
     },
     "execution_count": 48,
     "metadata": {},
     "output_type": "execute_result"
    }
   ],
   "source": [
    "sp1.dipole"
   ]
  },
  {
   "cell_type": "code",
   "execution_count": 50,
   "id": "c83378a2",
   "metadata": {},
   "outputs": [],
   "source": [
    "mutable struct MutableSpecies\n",
    "    name::String\n",
    "    mol_wt::Float64\n",
    "    geom::Int64\n",
    "    dipole::Int64\n",
    "end"
   ]
  },
  {
   "cell_type": "code",
   "execution_count": 51,
   "id": "901bec4a",
   "metadata": {},
   "outputs": [
    {
     "data": {
      "text/plain": [
       "MutableSpecies(\"O2\", 0.032, 0, 1)"
      ]
     },
     "execution_count": 51,
     "metadata": {},
     "output_type": "execute_result"
    }
   ],
   "source": [
    "sp1 = MutableSpecies(\"O2\",0.032,0,1)"
   ]
  },
  {
   "cell_type": "code",
   "execution_count": 52,
   "id": "6d1d354c",
   "metadata": {},
   "outputs": [
    {
     "data": {
      "text/plain": [
       "0.03119"
      ]
     },
     "execution_count": 52,
     "metadata": {},
     "output_type": "execute_result"
    }
   ],
   "source": [
    "sp1.mol_wt = 0.03119"
   ]
  },
  {
   "cell_type": "code",
   "execution_count": 53,
   "id": "c1b24a51",
   "metadata": {},
   "outputs": [
    {
     "data": {
      "text/plain": [
       "MutableSpecies(\"O2\", 0.03119, 0, 1)"
      ]
     },
     "execution_count": 53,
     "metadata": {},
     "output_type": "execute_result"
    }
   ],
   "source": [
    "sp1"
   ]
  },
  {
   "cell_type": "code",
   "execution_count": 54,
   "id": "fd27d571",
   "metadata": {},
   "outputs": [],
   "source": [
    "struct StructTest\n",
    "    a::Int64\n",
    "    b::Array{Float64, 1}\n",
    "end"
   ]
  },
  {
   "cell_type": "code",
   "execution_count": 55,
   "id": "2ff6488d",
   "metadata": {},
   "outputs": [
    {
     "data": {
      "text/plain": [
       "StructTest(10, [1.1, 2.2])"
      ]
     },
     "execution_count": 55,
     "metadata": {},
     "output_type": "execute_result"
    }
   ],
   "source": [
    "st1 = StructTest(10, [1.1, 2.2])"
   ]
  },
  {
   "cell_type": "code",
   "execution_count": 56,
   "id": "272d160e",
   "metadata": {},
   "outputs": [
    {
     "data": {
      "text/plain": [
       "11.1"
      ]
     },
     "execution_count": 56,
     "metadata": {},
     "output_type": "execute_result"
    }
   ],
   "source": [
    "st1.b[2] = 11.1"
   ]
  },
  {
   "cell_type": "code",
   "execution_count": 57,
   "id": "ae23aac4",
   "metadata": {},
   "outputs": [
    {
     "data": {
      "text/plain": [
       "StructTest(10, [1.1, 11.1])"
      ]
     },
     "execution_count": 57,
     "metadata": {},
     "output_type": "execute_result"
    }
   ],
   "source": [
    "st1"
   ]
  },
  {
   "cell_type": "code",
   "execution_count": 58,
   "id": "491f1587",
   "metadata": {},
   "outputs": [],
   "source": [
    "struct ThermoState\n",
    "    T::Float64\n",
    "    P::Float64\n",
    "end"
   ]
  },
  {
   "cell_type": "code",
   "execution_count": 59,
   "id": "df7cd9a5",
   "metadata": {},
   "outputs": [],
   "source": [
    "struct ThermoProperties\n",
    "    H::Float64\n",
    "    Cp::Float64\n",
    "    S::Float64\n",
    "end"
   ]
  },
  {
   "cell_type": "code",
   "execution_count": 60,
   "id": "38ee5037",
   "metadata": {},
   "outputs": [],
   "source": [
    "struct SpeciesProperties\n",
    "    ts::ThermoState\n",
    "    tp::ThermoProperties\n",
    "end"
   ]
  },
  {
   "cell_type": "code",
   "execution_count": 62,
   "id": "41cc21e8",
   "metadata": {},
   "outputs": [],
   "source": [
    "struct MySpecies\n",
    "    name::String\n",
    "    properties::SpeciesProperties\n",
    "end"
   ]
  },
  {
   "cell_type": "code",
   "execution_count": 64,
   "id": "b662abc9",
   "metadata": {},
   "outputs": [
    {
     "data": {
      "text/plain": [
       "Array{MySpecies, 10}"
      ]
     },
     "execution_count": 64,
     "metadata": {},
     "output_type": "execute_result"
    }
   ],
   "source": [
    "ms = Array{MySpecies, 10}"
   ]
  },
  {
   "cell_type": "code",
   "execution_count": null,
   "id": "e441d1ce",
   "metadata": {},
   "outputs": [],
   "source": [
    "ds = Dict{String, Array}"
   ]
  }
 ],
 "metadata": {
  "kernelspec": {
   "display_name": "Julia 1.7.3",
   "language": "julia",
   "name": "julia-1.7"
  },
  "language_info": {
   "file_extension": ".jl",
   "mimetype": "application/julia",
   "name": "julia",
   "version": "1.7.3"
  }
 },
 "nbformat": 4,
 "nbformat_minor": 5
}
