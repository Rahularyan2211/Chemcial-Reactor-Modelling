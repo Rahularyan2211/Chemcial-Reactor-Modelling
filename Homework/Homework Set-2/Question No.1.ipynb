{
 "cells": [
  {
   "cell_type": "code",
   "execution_count": 6,
   "id": "e7ec6fd7",
   "metadata": {},
   "outputs": [
    {
     "data": {
      "text/plain": [
       "(H = 0.001, O = 0.016, N = 0.014, C = 0.012)"
      ]
     },
     "execution_count": 6,
     "metadata": {},
     "output_type": "execute_result"
    }
   ],
   "source": [
    "element_wt = (H =0.001, O = 0.016, N = 0.014, C = 0.012)"
   ]
  },
  {
   "cell_type": "code",
   "execution_count": 7,
   "id": "a7bfc241",
   "metadata": {},
   "outputs": [
    {
     "data": {
      "text/plain": [
       "(C = 1.0, H = 4.0, Ar = 2.0)"
      ]
     },
     "execution_count": 7,
     "metadata": {},
     "output_type": "execute_result"
    }
   ],
   "source": [
    "elm_comp = (C = 1.0, H = 4.0, Ar = 2.0)"
   ]
  },
  {
   "cell_type": "code",
   "execution_count": 8,
   "id": "9fc516e7",
   "metadata": {},
   "outputs": [
    {
     "data": {
      "text/plain": [
       "NamedTuple{(:C, :H, :Ar), Tuple{Float64, Float64, Float64}}"
      ]
     },
     "execution_count": 8,
     "metadata": {},
     "output_type": "execute_result"
    }
   ],
   "source": [
    "typeof(elm_comp)"
   ]
  },
  {
   "cell_type": "code",
   "execution_count": 9,
   "id": "0c1c7e0d",
   "metadata": {},
   "outputs": [
    {
     "data": {
      "text/plain": [
       "calc_mol_weight (generic function with 1 method)"
      ]
     },
     "execution_count": 9,
     "metadata": {},
     "output_type": "execute_result"
    }
   ],
   "source": [
    "function calc_mol_weight(T)\n",
    "    total_weight = 0.0\n",
    "    is_on_list = true\n",
    "    key = keys(T)\n",
    "    for i in 1: length(key)\n",
    "         if haskey(element_wt, Symbol(key[i]))\n",
    "            total_weight += element_wt[Symbol(key[i])]*T[i]\n",
    "        else\n",
    "            println(\"Not on the list\")\n",
    "            is_on_list = false\n",
    "            break\n",
    "        end\n",
    "    end\n",
    "    if(is_on_list)\n",
    "        return total_weight\n",
    "    end\n",
    "end"
   ]
  },
  {
   "cell_type": "code",
   "execution_count": 10,
   "id": "87229407",
   "metadata": {},
   "outputs": [
    {
     "name": "stdout",
     "output_type": "stream",
     "text": [
      "Not on the list\n"
     ]
    }
   ],
   "source": [
    "calc_mol_weight(elm_comp)"
   ]
  }
 ],
 "metadata": {
  "kernelspec": {
   "display_name": "Julia 1.7.3",
   "language": "julia",
   "name": "julia-1.7"
  },
  "language_info": {
   "file_extension": ".jl",
   "mimetype": "application/julia",
   "name": "julia",
   "version": "1.7.3"
  }
 },
 "nbformat": 4,
 "nbformat_minor": 5
}
