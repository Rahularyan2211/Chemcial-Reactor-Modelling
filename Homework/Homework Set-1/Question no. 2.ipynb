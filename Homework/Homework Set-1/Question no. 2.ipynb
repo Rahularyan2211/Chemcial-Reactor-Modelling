{
 "cells": [
  {
   "cell_type": "markdown",
   "id": "5319b691",
   "metadata": {},
   "source": [
    "### Method 1: function Using Loop "
   ]
  },
  {
   "cell_type": "code",
   "execution_count": 1,
   "id": "80342a34",
   "metadata": {},
   "outputs": [
    {
     "data": {
      "text/plain": [
       "massfractomolefrac (generic function with 1 method)"
      ]
     },
     "execution_count": 1,
     "metadata": {},
     "output_type": "execute_result"
    }
   ],
   "source": [
    "function massfractomolefrac(massf::Array{Float64}, mw::Array{Float64})\n",
    "    sum = 0\n",
    "    mole = zeros(length(massf))\n",
    "    molef = zeros(length(massf))\n",
    "    for i in 1: length(massf)\n",
    "        mole[i] = massf[i]/mw[i]\n",
    "        sum += mole[i]\n",
    "    end\n",
    "    for i in 1: length(massf)\n",
    "        molef[i] = mole[i]/sum\n",
    "    end\n",
    "    return molef\n",
    "end"
   ]
  },
  {
   "cell_type": "markdown",
   "id": "eee580d8",
   "metadata": {},
   "source": [
    "### Method 2: Function using Broadcast method"
   ]
  },
  {
   "cell_type": "code",
   "execution_count": 10,
   "id": "93602dec",
   "metadata": {},
   "outputs": [
    {
     "data": {
      "text/plain": [
       "brodcastmethod (generic function with 1 method)"
      ]
     },
     "execution_count": 10,
     "metadata": {},
     "output_type": "execute_result"
    }
   ],
   "source": [
    "sum = 0\n",
    "function brodcastmethod(a::Float64, b::Float64)\n",
    "    mole = a/b\n",
    "    return mole/sum(mole)\n",
    "end # not working"
   ]
  },
  {
   "cell_type": "markdown",
   "id": "1d894e3e",
   "metadata": {},
   "source": [
    "### Input values and outputs"
   ]
  },
  {
   "cell_type": "code",
   "execution_count": 4,
   "id": "7c72f65b",
   "metadata": {},
   "outputs": [
    {
     "data": {
      "text/plain": [
       "3-element Vector{Float64}:\n",
       " 32.0\n",
       " 28.02\n",
       " 16.04"
      ]
     },
     "execution_count": 4,
     "metadata": {},
     "output_type": "execute_result"
    }
   ],
   "source": [
    "massf = [0.500,0.200,0.300]\n",
    "mw = [32.00, 28.02,16.04]"
   ]
  },
  {
   "cell_type": "code",
   "execution_count": 11,
   "id": "edb231e2",
   "metadata": {},
   "outputs": [
    {
     "data": {
      "text/plain": [
       "3-element Vector{Float64}:\n",
       " 0.3768147339798688\n",
       " 0.17213521038338048\n",
       " 0.4510500556367507"
      ]
     },
     "execution_count": 11,
     "metadata": {},
     "output_type": "execute_result"
    }
   ],
   "source": [
    "massfractomolefrac(massf,mw)"
   ]
  },
  {
   "cell_type": "code",
   "execution_count": 12,
   "id": "2db8348d",
   "metadata": {},
   "outputs": [
    {
     "ename": "LoadError",
     "evalue": "UndefVarError: broadcastmethod not defined",
     "output_type": "error",
     "traceback": [
      "UndefVarError: broadcastmethod not defined",
      "",
      "Stacktrace:",
      " [1] top-level scope",
      "   @ In[12]:1",
      " [2] eval",
      "   @ .\\boot.jl:373 [inlined]",
      " [3] include_string(mapexpr::typeof(REPL.softscope), mod::Module, code::String, filename::String)",
      "   @ Base .\\loading.jl:1196"
     ]
    }
   ],
   "source": [
    "broadcastmethod(massf,mw)"
   ]
  },
  {
   "cell_type": "code",
   "execution_count": null,
   "id": "97bf44d2",
   "metadata": {},
   "outputs": [],
   "source": []
  }
 ],
 "metadata": {
  "kernelspec": {
   "display_name": "Julia 1.7.3",
   "language": "julia",
   "name": "julia-1.7"
  },
  "language_info": {
   "file_extension": ".jl",
   "mimetype": "application/julia",
   "name": "julia",
   "version": "1.7.3"
  }
 },
 "nbformat": 4,
 "nbformat_minor": 5
}
