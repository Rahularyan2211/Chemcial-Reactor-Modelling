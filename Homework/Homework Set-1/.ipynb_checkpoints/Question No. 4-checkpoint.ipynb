{
 "cells": [
  {
   "cell_type": "markdown",
   "id": "060e2ff2",
   "metadata": {},
   "source": [
    "### Finding density using ideal gas law using minimum input parameter"
   ]
  },
  {
   "cell_type": "code",
   "execution_count": 1,
   "id": "56d3798f",
   "metadata": {},
   "outputs": [
    {
     "data": {
      "text/plain": [
       "density (generic function with 1 method)"
      ]
     },
     "execution_count": 1,
     "metadata": {},
     "output_type": "execute_result"
    }
   ],
   "source": [
    "function density(p::Float64, M::Float64, T::Float64)\n",
    "    return p*M/(0.0821(T+273.15))\n",
    "end\n",
    "# considering P is in atm, T is in celsius and M in g/mol and output density would be in g/L"
   ]
  },
  {
   "cell_type": "code",
   "execution_count": 3,
   "id": "44f88349",
   "metadata": {},
   "outputs": [
    {
     "data": {
      "text/plain": [
       "2.8399493338313735"
      ]
     },
     "execution_count": 3,
     "metadata": {},
     "output_type": "execute_result"
    }
   ],
   "source": [
    "density(1.23,64.1,65.0)"
   ]
  }
 ],
 "metadata": {
  "kernelspec": {
   "display_name": "Julia 1.7.3",
   "language": "julia",
   "name": "julia-1.7"
  },
  "language_info": {
   "file_extension": ".jl",
   "mimetype": "application/julia",
   "name": "julia",
   "version": "1.7.3"
  }
 },
 "nbformat": 4,
 "nbformat_minor": 5
}
