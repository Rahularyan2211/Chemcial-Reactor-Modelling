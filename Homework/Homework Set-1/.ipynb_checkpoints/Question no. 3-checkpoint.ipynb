{
 "cells": [
  {
   "cell_type": "markdown",
   "id": "aff8b812",
   "metadata": {},
   "source": [
    "### Mole fraction to mass fraction"
   ]
  },
  {
   "cell_type": "code",
   "execution_count": 2,
   "id": "1a33fd17",
   "metadata": {},
   "outputs": [
    {
     "data": {
      "text/plain": [
       "molefractomassfrac (generic function with 1 method)"
      ]
     },
     "execution_count": 2,
     "metadata": {},
     "output_type": "execute_result"
    }
   ],
   "source": [
    "function molefractomassfrac(molef::Array{Float64}, mw::Array{Float64})\n",
    "    sum = 0\n",
    "    mass = zeros(length(molef))\n",
    "    massf = zeros(length(molef))\n",
    "    for i in 1:length(molef)\n",
    "        mass[i] = molef[i]*mw[i]\n",
    "        sum = sum + mass[i]\n",
    "    end\n",
    "    for i in 1:length(molef)\n",
    "        massf[i] = mass[i]/sum\n",
    "    end\n",
    "    return massf\n",
    "end"
   ]
  },
  {
   "cell_type": "code",
   "execution_count": 3,
   "id": "14a0f6f4",
   "metadata": {},
   "outputs": [
    {
     "data": {
      "text/plain": [
       "4-element Vector{Float64}:\n",
       " 44.01\n",
       " 18.02\n",
       " 32.0\n",
       " 28.02"
      ]
     },
     "execution_count": 3,
     "metadata": {},
     "output_type": "execute_result"
    }
   ],
   "source": [
    "molef = [10.0,30.0,40.0,20.0]\n",
    "mw = [44.01, 18.02, 32.00,28.02]"
   ]
  },
  {
   "cell_type": "code",
   "execution_count": 4,
   "id": "ca979df8",
   "metadata": {},
   "outputs": [
    {
     "data": {
      "text/plain": [
       "4-element Vector{Float64}:\n",
       " 0.15600297756194392\n",
       " 0.1916273793910177\n",
       " 0.4537237247882032\n",
       " 0.1986459182588352"
      ]
     },
     "execution_count": 4,
     "metadata": {},
     "output_type": "execute_result"
    }
   ],
   "source": [
    "molefractomassfrac(molef,mw)"
   ]
  },
  {
   "cell_type": "code",
   "execution_count": 6,
   "id": "cd7658a6",
   "metadata": {},
   "outputs": [
    {
     "data": {
      "text/plain": [
       "mole2mass (generic function with 1 method)"
      ]
     },
     "execution_count": 6,
     "metadata": {},
     "output_type": "execute_result"
    }
   ],
   "source": [
    "mole2mass(mlf::Array{Float64}, mlwt::Array{Float64}) = (mlf.*mlwt)/sum(mlf.*mlwt)"
   ]
  },
  {
   "cell_type": "code",
   "execution_count": 7,
   "id": "e4237fdd",
   "metadata": {},
   "outputs": [
    {
     "data": {
      "text/plain": [
       "4-element Vector{Float64}:\n",
       " 0.15600297756194392\n",
       " 0.1916273793910177\n",
       " 0.4537237247882032\n",
       " 0.1986459182588352"
      ]
     },
     "execution_count": 7,
     "metadata": {},
     "output_type": "execute_result"
    }
   ],
   "source": [
    "mole2mass(molef,mw)"
   ]
  }
 ],
 "metadata": {
  "kernelspec": {
   "display_name": "Julia 1.7.3",
   "language": "julia",
   "name": "julia-1.7"
  },
  "language_info": {
   "file_extension": ".jl",
   "mimetype": "application/julia",
   "name": "julia",
   "version": "1.7.3"
  }
 },
 "nbformat": 4,
 "nbformat_minor": 5
}
