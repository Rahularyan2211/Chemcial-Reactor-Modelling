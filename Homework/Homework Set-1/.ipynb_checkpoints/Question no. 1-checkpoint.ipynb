{
 "cells": [
  {
   "cell_type": "code",
   "execution_count": 1,
   "id": "82e6757d",
   "metadata": {},
   "outputs": [
    {
     "data": {
      "text/plain": [
       "seperateCoeff (generic function with 1 method)"
      ]
     },
     "execution_count": 1,
     "metadata": {},
     "output_type": "execute_result"
    }
   ],
   "source": [
    "function seperateCoeff(compoundWithCoeff)\n",
    "    coeffStr = \"\"\n",
    "    compound = \"\"\n",
    "    for idx in eachindex(compoundWithCoeff)\n",
    "        if compoundWithCoeff[idx] >= '1' && compoundWithCoeff[idx] <= '9'\n",
    "            coeffStr *= compoundWithCoeff[idx]\n",
    "        else\n",
    "            compound *= compoundWithCoeff[idx:end]\n",
    "            break\n",
    "        end\n",
    "    end\n",
    "    \n",
    "    if coeffStr == \"\"\n",
    "        coeff = 1\n",
    "    else\n",
    "        coeff = parse(Int, coeffStr)\n",
    "    end\n",
    "    \n",
    "    return coeff, compound\n",
    "end"
   ]
  },
  {
   "cell_type": "code",
   "execution_count": 5,
   "id": "769d2a16",
   "metadata": {},
   "outputs": [
    {
     "data": {
      "text/plain": [
       "(Any[\"CH4\", \"H2O\"], \"Irreversible\", Any[\"H2\", \"CO\"], Any[1, 1, 3, 1], 1.2e15, 1.5, 120.0)"
      ]
     },
     "execution_count": 5,
     "metadata": {},
     "output_type": "execute_result"
    }
   ],
   "source": [
    "function reactiondata(s)\n",
    "    idx = 1\n",
    "    reactionList = split(s)\n",
    "    reactantList = []\n",
    "    productList = []\n",
    "    coefficients = []\n",
    "    \n",
    "    # Extract Reactants with their coefficents\n",
    "    while true\n",
    "        coeff, reactant = seperateCoeff(reactionList[idx])\n",
    "        append!(reactantList, [reactant])\n",
    "        append!(coefficients, [coeff])\n",
    "        if reactionList[idx+1] == \"=>\" || reactionList[idx+1] == \"=\"\n",
    "            break\n",
    "        end\n",
    "        idx+=2\n",
    "    end\n",
    "    \n",
    "    # Check if Reversible or Irreversible\n",
    "    idx += 1\n",
    "    if reactionList[idx] == \"=\"\n",
    "        reversibility = \"Reversible\"\n",
    "    elseif reactionList[idx] == \"=>\"\n",
    "        reversibility = \"Irreversible\"\n",
    "    end\n",
    "    \n",
    "    idx += 1\n",
    "    \n",
    "    # Extract Products and their coefficients\n",
    "     while true\n",
    "        coeff, product = seperateCoeff(reactionList[idx])\n",
    "        append!(productList, [product])\n",
    "        append!(coefficients, [coeff])\n",
    "        \n",
    "        if reactionList[idx+1] != \"+\"\n",
    "            break\n",
    "        end\n",
    "        \n",
    "        idx+=2\n",
    "    end\n",
    "    \n",
    "    # Extract pre-exponential factor, temperature exponent and activation energy\n",
    "    idx += 1\n",
    "    preExponentialFactor = parse(Float64, reactionList[idx])\n",
    "    \n",
    "    idx +=1 \n",
    "    temperatureExponent = parse(Float64, reactionList[idx])\n",
    "    \n",
    "    idx +=1\n",
    "    activationEnergy = parse(Float64, reactionList[idx])\n",
    "    \n",
    "    return reactantList, reversibility, productList, coefficients, preExponentialFactor, temperatureExponent, activationEnergy\n",
    "            \n",
    "end\n",
    "reactiondata(\"CH4 + H2O => 3H2 + CO  12e14 \t1.5\t120\")"
   ]
  },
  {
   "cell_type": "code",
   "execution_count": null,
   "id": "6aab5e8d",
   "metadata": {},
   "outputs": [],
   "source": []
  }
 ],
 "metadata": {
  "kernelspec": {
   "display_name": "Julia 1.7.3",
   "language": "julia",
   "name": "julia-1.7"
  },
  "language_info": {
   "file_extension": ".jl",
   "mimetype": "application/julia",
   "name": "julia",
   "version": "1.7.3"
  }
 },
 "nbformat": 4,
 "nbformat_minor": 5
}
