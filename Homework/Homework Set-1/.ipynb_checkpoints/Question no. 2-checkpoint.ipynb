{
 "cells": [
  {
   "cell_type": "markdown",
   "id": "5319b691",
   "metadata": {},
   "source": [
    "### Method 1: function Using Loop "
   ]
  },
  {
   "cell_type": "code",
   "execution_count": 98,
   "id": "80342a34",
   "metadata": {},
   "outputs": [
    {
     "data": {
      "text/plain": [
       "massfractomolefrac (generic function with 3 methods)"
      ]
     },
     "execution_count": 98,
     "metadata": {},
     "output_type": "execute_result"
    }
   ],
   "source": [
    "function massfractomolefrac(massf::Array{Float64}, mw::Array{Float64})\n",
    "    sum = 0\n",
    "    mole = zeros(length(massf))\n",
    "    molef = zeros(length(massf))\n",
    "    for i in 1: length(massf)\n",
    "        mole[i] = massf[i]/mw[i]\n",
    "        sum += mole[i]\n",
    "    end\n",
    "    for i in 1: length(massf)\n",
    "        molef[i] = mole[i]/sum\n",
    "    end\n",
    "    return molef\n",
    "end"
   ]
  },
  {
   "cell_type": "markdown",
   "id": "eee580d8",
   "metadata": {},
   "source": [
    "### Method 2: Function using Broadcasting method"
   ]
  },
  {
   "cell_type": "code",
   "execution_count": null,
   "id": "93602dec",
   "metadata": {},
   "outputs": [],
   "source": [
    "function brodcastmethod(a::Float64, b::Float64)\n",
    "    (a/b)/sum\n",
    "end # not working"
   ]
  },
  {
   "cell_type": "code",
   "execution_count": 99,
   "id": "7c72f65b",
   "metadata": {},
   "outputs": [
    {
     "data": {
      "text/plain": [
       "3-element Vector{Float64}:\n",
       " 32.0\n",
       " 28.02\n",
       " 16.04"
      ]
     },
     "execution_count": 99,
     "metadata": {},
     "output_type": "execute_result"
    }
   ],
   "source": [
    "massf = [50.0,20.0,30.0]\n",
    "mw = [32.00, 28.02,16.04]"
   ]
  },
  {
   "cell_type": "code",
   "execution_count": 100,
   "id": "edb231e2",
   "metadata": {},
   "outputs": [
    {
     "data": {
      "text/plain": [
       "3-element Vector{Float64}:\n",
       " 0.37681473397986887\n",
       " 0.1721352103833805\n",
       " 0.45105005563675077"
      ]
     },
     "execution_count": 100,
     "metadata": {},
     "output_type": "execute_result"
    }
   ],
   "source": [
    "massfractomolefrac(massf,mw)"
   ]
  }
 ],
 "metadata": {
  "kernelspec": {
   "display_name": "Julia 1.7.3",
   "language": "julia",
   "name": "julia-1.7"
  },
  "language_info": {
   "file_extension": ".jl",
   "mimetype": "application/julia",
   "name": "julia",
   "version": "1.7.3"
  }
 },
 "nbformat": 4,
 "nbformat_minor": 5
}
