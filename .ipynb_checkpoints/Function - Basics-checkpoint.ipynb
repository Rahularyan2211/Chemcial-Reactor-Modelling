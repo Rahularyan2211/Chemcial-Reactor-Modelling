{
 "cells": [
  {
   "cell_type": "markdown",
   "id": "477bfd1b",
   "metadata": {},
   "source": [
    "### Function"
   ]
  },
  {
   "cell_type": "code",
   "execution_count": 6,
   "id": "50be558a",
   "metadata": {},
   "outputs": [
    {
     "data": {
      "text/plain": [
       "multi (generic function with 2 methods)"
      ]
     },
     "execution_count": 6,
     "metadata": {},
     "output_type": "execute_result"
    }
   ],
   "source": [
    "function multi(a::Int64,b::Int64)\n",
    "    a*b\n",
    "end"
   ]
  },
  {
   "cell_type": "code",
   "execution_count": 7,
   "id": "d5c8e577",
   "metadata": {},
   "outputs": [
    {
     "data": {
      "text/plain": [
       "6"
      ]
     },
     "execution_count": 7,
     "metadata": {},
     "output_type": "execute_result"
    }
   ],
   "source": [
    "multi(2,3)"
   ]
  },
  {
   "cell_type": "code",
   "execution_count": 8,
   "id": "1404a594",
   "metadata": {},
   "outputs": [
    {
     "data": {
      "text/plain": [
       "4.840000000000001"
      ]
     },
     "execution_count": 8,
     "metadata": {},
     "output_type": "execute_result"
    }
   ],
   "source": [
    "multi(2.2,2.2)"
   ]
  },
  {
   "cell_type": "code",
   "execution_count": 11,
   "id": "ed6a093d",
   "metadata": {},
   "outputs": [
    {
     "data": {
      "text/plain": [
       "multi2 (generic function with 1 method)"
      ]
     },
     "execution_count": 11,
     "metadata": {},
     "output_type": "execute_result"
    }
   ],
   "source": [
    "function multi2(a::Int64, b::Int64)\n",
    "    a*b\n",
    "end"
   ]
  },
  {
   "cell_type": "code",
   "execution_count": 12,
   "id": "262e1352",
   "metadata": {},
   "outputs": [
    {
     "ename": "LoadError",
     "evalue": "MethodError: no method matching multi2(::Float64, ::Float64)",
     "output_type": "error",
     "traceback": [
      "MethodError: no method matching multi2(::Float64, ::Float64)",
      "",
      "Stacktrace:",
      " [1] top-level scope",
      "   @ In[12]:1",
      " [2] eval",
      "   @ .\\boot.jl:373 [inlined]",
      " [3] include_string(mapexpr::typeof(REPL.softscope), mod::Module, code::String, filename::String)",
      "   @ Base .\\loading.jl:1196"
     ]
    }
   ],
   "source": [
    "multi2(2.2,2.2)"
   ]
  },
  {
   "cell_type": "markdown",
   "id": "a269e4cf",
   "metadata": {},
   "source": [
    "### How to write function in a single line"
   ]
  },
  {
   "cell_type": "code",
   "execution_count": 18,
   "id": "f236af9a",
   "metadata": {},
   "outputs": [
    {
     "data": {
      "text/plain": [
       "multi1 (generic function with 1 method)"
      ]
     },
     "execution_count": 18,
     "metadata": {},
     "output_type": "execute_result"
    }
   ],
   "source": [
    "multi1(a::Float64, b::Float64) = a*b"
   ]
  },
  {
   "cell_type": "code",
   "execution_count": 19,
   "id": "909e31b6",
   "metadata": {},
   "outputs": [
    {
     "data": {
      "text/plain": [
       "200.0"
      ]
     },
     "execution_count": 19,
     "metadata": {},
     "output_type": "execute_result"
    }
   ],
   "source": [
    "multi1(10.0,20.0)"
   ]
  },
  {
   "cell_type": "code",
   "execution_count": 20,
   "id": "d0e7bfc9",
   "metadata": {},
   "outputs": [
    {
     "data": {
      "text/plain": [
       "multi (generic function with 2 methods)"
      ]
     },
     "execution_count": 20,
     "metadata": {},
     "output_type": "execute_result"
    }
   ],
   "source": [
    "function multi(a::Int64, b::Int64)\n",
    "    a*b, a/b, a%b\n",
    "end"
   ]
  },
  {
   "cell_type": "code",
   "execution_count": 21,
   "id": "8c26b20c",
   "metadata": {},
   "outputs": [
    {
     "data": {
      "text/plain": [
       "(36, 2.25, 1)"
      ]
     },
     "execution_count": 21,
     "metadata": {},
     "output_type": "execute_result"
    }
   ],
   "source": [
    "multi(9,4)"
   ]
  },
  {
   "cell_type": "code",
   "execution_count": 22,
   "id": "38040f63",
   "metadata": {},
   "outputs": [
    {
     "data": {
      "text/plain": [
       "(40, 2.5, 2)"
      ]
     },
     "execution_count": 22,
     "metadata": {},
     "output_type": "execute_result"
    }
   ],
   "source": [
    "x, y, z = multi(10,4)"
   ]
  },
  {
   "cell_type": "code",
   "execution_count": 23,
   "id": "367cbc6a",
   "metadata": {},
   "outputs": [
    {
     "name": "stdout",
     "output_type": "stream",
     "text": [
      "40 2.5 2"
     ]
    }
   ],
   "source": [
    "print(x, \" \", y, \" \", z)"
   ]
  },
  {
   "cell_type": "code",
   "execution_count": 27,
   "id": "b2ef0fa4",
   "metadata": {},
   "outputs": [
    {
     "data": {
      "text/plain": [
       "varargs (generic function with 1 method)"
      ]
     },
     "execution_count": 27,
     "metadata": {},
     "output_type": "execute_result"
    }
   ],
   "source": [
    "function varargs(x, y,args...)\n",
    "    println(x, \"\\t\", y)\n",
    "    println(args)\n",
    "end"
   ]
  },
  {
   "cell_type": "code",
   "execution_count": 29,
   "id": "e72a54d7",
   "metadata": {},
   "outputs": [
    {
     "name": "stdout",
     "output_type": "stream",
     "text": [
      "10\t20\n",
      "([1, 2, 3, 4], [5, 6, 7])\n"
     ]
    }
   ],
   "source": [
    "varargs(10,20,[1,2,3,4],[5,6,7])"
   ]
  },
  {
   "cell_type": "raw",
   "id": "26b8dd97",
   "metadata": {},
   "source": [
    "function nre(d::Float64, u::Float64 , rho= 1000 , mu=0.001)\n",
    "    d*u*rho/mu\n",
    "end"
   ]
  },
  {
   "cell_type": "code",
   "execution_count": 32,
   "id": "16e05e0a",
   "metadata": {},
   "outputs": [
    {
     "data": {
      "text/plain": [
       "50000.0"
      ]
     },
     "execution_count": 32,
     "metadata": {},
     "output_type": "execute_result"
    }
   ],
   "source": [
    "nre(5e-3, 10.0)"
   ]
  },
  {
   "cell_type": "code",
   "execution_count": 37,
   "id": "ec611a78",
   "metadata": {},
   "outputs": [
    {
     "data": {
      "text/plain": [
       "keyargs (generic function with 1 method)"
      ]
     },
     "execution_count": 37,
     "metadata": {},
     "output_type": "execute_result"
    }
   ],
   "source": [
    "function keyargs(x, y; length=10, width=15)\n",
    "    println(x, \"\\t\", y)\n",
    "    println(length, \"\\t\", width)\n",
    "end"
   ]
  },
  {
   "cell_type": "code",
   "execution_count": 38,
   "id": "28310a35",
   "metadata": {},
   "outputs": [
    {
     "name": "stdout",
     "output_type": "stream",
     "text": [
      "10\t20\n",
      "15\t12\n"
     ]
    }
   ],
   "source": [
    "keyargs(10,20, length=15, width=12)"
   ]
  },
  {
   "cell_type": "code",
   "execution_count": 39,
   "id": "2d9b03e6",
   "metadata": {},
   "outputs": [
    {
     "name": "stdout",
     "output_type": "stream",
     "text": [
      "10\t20\n",
      "10\t15\n"
     ]
    }
   ],
   "source": [
    "keyargs(10,20)"
   ]
  },
  {
   "cell_type": "code",
   "execution_count": 54,
   "id": "6c7d59c6",
   "metadata": {},
   "outputs": [
    {
     "data": {
      "text/plain": [
       "func1 (generic function with 1 method)"
      ]
     },
     "execution_count": 54,
     "metadata": {},
     "output_type": "execute_result"
    }
   ],
   "source": [
    "function func1(x::Array{Float64}, y::Array{Int64})\n",
    "    # x .= x*2    # .= -> inplace = True \n",
    "    # y .= y*3\n",
    "    \n",
    "    for i in 1:length(x)\n",
    "        x[i] *= 2\n",
    "    end\n",
    "    for i in 1: length(y)\n",
    "        y[i] *= 3\n",
    "    end\n",
    "end"
   ]
  },
  {
   "cell_type": "code",
   "execution_count": 55,
   "id": "48b42d40",
   "metadata": {},
   "outputs": [
    {
     "data": {
      "text/plain": [
       "3-element Vector{Int64}:\n",
       " 1\n",
       " 2\n",
       " 3"
      ]
     },
     "execution_count": 55,
     "metadata": {},
     "output_type": "execute_result"
    }
   ],
   "source": [
    "x = [1.1,2.2,3.3]\n",
    "y = [1,2,3]"
   ]
  },
  {
   "cell_type": "code",
   "execution_count": 58,
   "id": "251ea9ec",
   "metadata": {},
   "outputs": [],
   "source": [
    "func1(x,y)"
   ]
  },
  {
   "cell_type": "code",
   "execution_count": 59,
   "id": "a49feed2",
   "metadata": {},
   "outputs": [
    {
     "data": {
      "text/plain": [
       "3-element Vector{Float64}:\n",
       "  4.4\n",
       "  8.8\n",
       " 13.2"
      ]
     },
     "execution_count": 59,
     "metadata": {},
     "output_type": "execute_result"
    }
   ],
   "source": [
    "x"
   ]
  },
  {
   "cell_type": "code",
   "execution_count": 57,
   "id": "39bf7af0",
   "metadata": {},
   "outputs": [
    {
     "data": {
      "text/plain": [
       "3-element Vector{Int64}:\n",
       " 3\n",
       " 6\n",
       " 9"
      ]
     },
     "execution_count": 57,
     "metadata": {},
     "output_type": "execute_result"
    }
   ],
   "source": [
    "y"
   ]
  },
  {
   "cell_type": "markdown",
   "id": "bb5ebdd6",
   "metadata": {},
   "source": [
    "### Anonymous Function"
   ]
  },
  {
   "cell_type": "code",
   "execution_count": 61,
   "id": "c96aa2df",
   "metadata": {},
   "outputs": [
    {
     "data": {
      "text/plain": [
       "#4 (generic function with 1 method)"
      ]
     },
     "execution_count": 61,
     "metadata": {},
     "output_type": "execute_result"
    }
   ],
   "source": [
    "b = function(x)\n",
    "    x*2\n",
    "end"
   ]
  },
  {
   "cell_type": "markdown",
   "id": "6016d9b9",
   "metadata": {},
   "source": [
    "### Also another way of writing Anonymous function`"
   ]
  },
  {
   "cell_type": "code",
   "execution_count": 62,
   "id": "8159127a",
   "metadata": {},
   "outputs": [
    {
     "data": {
      "text/plain": [
       "#6 (generic function with 1 method)"
      ]
     },
     "execution_count": 62,
     "metadata": {},
     "output_type": "execute_result"
    }
   ],
   "source": [
    "(x,y) -> x*y"
   ]
  },
  {
   "cell_type": "code",
   "execution_count": 65,
   "id": "57e2a4ce",
   "metadata": {},
   "outputs": [
    {
     "data": {
      "text/plain": [
       "3-element Vector{Int64}:\n",
       "  81\n",
       " 324\n",
       " 729"
      ]
     },
     "execution_count": 65,
     "metadata": {},
     "output_type": "execute_result"
    }
   ],
   "source": [
    "map(s-> s^2, y)"
   ]
  },
  {
   "cell_type": "code",
   "execution_count": 67,
   "id": "c894801c",
   "metadata": {},
   "outputs": [
    {
     "data": {
      "text/plain": [
       "3-element Vector{Float64}:\n",
       "  8.8\n",
       " 17.6\n",
       " 26.4"
      ]
     },
     "execution_count": 67,
     "metadata": {},
     "output_type": "execute_result"
    }
   ],
   "source": [
    "map(s->2s, x)"
   ]
  },
  {
   "cell_type": "code",
   "execution_count": 69,
   "id": "937b3649",
   "metadata": {},
   "outputs": [
    {
     "data": {
      "text/plain": [
       "3-element Vector{Float64}:\n",
       "  39.6\n",
       " 158.4\n",
       " 356.4"
      ]
     },
     "execution_count": 69,
     "metadata": {},
     "output_type": "execute_result"
    }
   ],
   "source": [
    "map((x,y)-> x*y, x, y)"
   ]
  },
  {
   "cell_type": "code",
   "execution_count": 70,
   "id": "0ccd82fe",
   "metadata": {},
   "outputs": [
    {
     "data": {
      "text/plain": [
       "3-element Vector{Int64}:\n",
       " 16\n",
       " 36\n",
       " 81"
      ]
     },
     "execution_count": 70,
     "metadata": {},
     "output_type": "execute_result"
    }
   ],
   "source": [
    "map(x -> x^2, map(+, [1,2,4],[3,4,5]))"
   ]
  },
  {
   "cell_type": "code",
   "execution_count": 71,
   "id": "01db78b0",
   "metadata": {},
   "outputs": [
    {
     "data": {
      "text/plain": [
       "5-element Vector{String}:\n",
       " \"CH4(g)\"\n",
       " \"CO(g)\"\n",
       " \"H(s)\"\n",
       " \"O(s)\"\n",
       " \"N2(g)\""
      ]
     },
     "execution_count": 71,
     "metadata": {},
     "output_type": "execute_result"
    }
   ],
   "source": [
    "species = [\"CH4(g)\",\"CO(g)\", \"H(s)\", \"O(s)\", \"N2(g)\"]"
   ]
  },
  {
   "cell_type": "code",
   "execution_count": 72,
   "id": "a5e8a6d6",
   "metadata": {},
   "outputs": [
    {
     "data": {
      "text/plain": [
       "2-element Vector{String}:\n",
       " \"H(s)\"\n",
       " \"O(s)\""
      ]
     },
     "execution_count": 72,
     "metadata": {},
     "output_type": "execute_result"
    }
   ],
   "source": [
    "filter(sp -> occursin(\"(s)\", sp),species)"
   ]
  },
  {
   "cell_type": "code",
   "execution_count": null,
   "id": "eb10df62",
   "metadata": {},
   "outputs": [],
   "source": []
  }
 ],
 "metadata": {
  "kernelspec": {
   "display_name": "Julia 1.7.3",
   "language": "julia",
   "name": "julia-1.7"
  },
  "language_info": {
   "file_extension": ".jl",
   "mimetype": "application/julia",
   "name": "julia",
   "version": "1.7.3"
  }
 },
 "nbformat": 4,
 "nbformat_minor": 5
}
